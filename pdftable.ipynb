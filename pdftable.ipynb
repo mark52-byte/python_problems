{
 "cells": [
  {
   "cell_type": "markdown",
   "id": "8d4e8b1b",
   "metadata": {},
   "source": [
    "# install camelot using conda \n"
   ]
  },
  {
   "cell_type": "code",
   "execution_count": 13,
   "id": "76ab10bc",
   "metadata": {},
   "outputs": [],
   "source": [
    "import camelot"
   ]
  },
  {
   "cell_type": "markdown",
   "id": "d25d1169",
   "metadata": {},
   "source": [
    "# read csv file using camelot.read`"
   ]
  },
  {
   "cell_type": "code",
   "execution_count": 17,
   "id": "dfe4d079",
   "metadata": {},
   "outputs": [],
   "source": [
    "tables = camelot.read_pdf('StarHealth1.pdf')\n"
   ]
  },
  {
   "cell_type": "code",
   "execution_count": null,
   "id": "6540d3b6",
   "metadata": {},
   "outputs": [],
   "source": []
  },
  {
   "cell_type": "markdown",
   "id": "235a4047",
   "metadata": {},
   "source": [
    "# now save it in csv form"
   ]
  },
  {
   "cell_type": "code",
   "execution_count": 16,
   "id": "031a2b8b",
   "metadata": {},
   "outputs": [],
   "source": [
    "# tables.export('new_table21.csv', f='csv', compress=False)\n",
    "tables[0].to_csv('new_table21.csv')"
   ]
  },
  {
   "cell_type": "code",
   "execution_count": 7,
   "id": "2b864b76",
   "metadata": {},
   "outputs": [],
   "source": [
    "import pandas as pd\n"
   ]
  },
  {
   "cell_type": "code",
   "execution_count": 10,
   "id": "20b04c82",
   "metadata": {},
   "outputs": [],
   "source": [
    "df = pd.read_csv (r'C:\\Users\\mark52\\Desktop\\pdtocsv\\new_table\\new_table-page-1-table-1.csv')\n",
    "df.to_json (r'new.json')"
   ]
  },
  {
   "cell_type": "markdown",
   "id": "58be8941",
   "metadata": {},
   "source": [
    "# read specific page "
   ]
  },
  {
   "cell_type": "code",
   "execution_count": 27,
   "id": "1d75b43a",
   "metadata": {},
   "outputs": [],
   "source": [
    " tables = camelot.read_pdf('StarHealth1.pdf', pages='2')"
   ]
  },
  {
   "cell_type": "code",
   "execution_count": 28,
   "id": "3346a9e9",
   "metadata": {},
   "outputs": [],
   "source": [
    "tables[0].to_csv('new_table21.csv')"
   ]
  },
  {
   "cell_type": "code",
   "execution_count": 29,
   "id": "88db9ae9",
   "metadata": {},
   "outputs": [],
   "source": [
    "df = pd.read_csv (r'new_table21.csv')\n",
    "df\n",
    "df.to_json (r'new21.json')"
   ]
  },
  {
   "cell_type": "code",
   "execution_count": 25,
   "id": "1b1eb930",
   "metadata": {},
   "outputs": [
    {
     "ename": "ValueError",
     "evalue": "DataFrame constructor not properly called!",
     "output_type": "error",
     "traceback": [
      "\u001b[1;31m---------------------------------------------------------------------------\u001b[0m",
      "\u001b[1;31mValueError\u001b[0m                                Traceback (most recent call last)",
      "\u001b[1;32m<ipython-input-25-91aa344dde2e>\u001b[0m in \u001b[0;36m<module>\u001b[1;34m\u001b[0m\n\u001b[1;32m----> 1\u001b[1;33m \u001b[0mdf\u001b[0m \u001b[1;33m=\u001b[0m \u001b[0mpd\u001b[0m\u001b[1;33m.\u001b[0m\u001b[0mDataFrame\u001b[0m\u001b[1;33m(\u001b[0m\u001b[1;34mr'new_table21.csv'\u001b[0m\u001b[1;33m)\u001b[0m\u001b[1;33m\u001b[0m\u001b[1;33m\u001b[0m\u001b[0m\n\u001b[0m",
      "\u001b[1;32m~\\anaconda3\\envs\\task\\lib\\site-packages\\pandas\\core\\frame.py\u001b[0m in \u001b[0;36m__init__\u001b[1;34m(self, data, index, columns, dtype, copy)\u001b[0m\n\u001b[0;32m    588\u001b[0m         \u001b[1;32melse\u001b[0m\u001b[1;33m:\u001b[0m\u001b[1;33m\u001b[0m\u001b[1;33m\u001b[0m\u001b[0m\n\u001b[0;32m    589\u001b[0m             \u001b[1;32mif\u001b[0m \u001b[0mindex\u001b[0m \u001b[1;32mis\u001b[0m \u001b[1;32mNone\u001b[0m \u001b[1;32mor\u001b[0m \u001b[0mcolumns\u001b[0m \u001b[1;32mis\u001b[0m \u001b[1;32mNone\u001b[0m\u001b[1;33m:\u001b[0m\u001b[1;33m\u001b[0m\u001b[1;33m\u001b[0m\u001b[0m\n\u001b[1;32m--> 590\u001b[1;33m                 \u001b[1;32mraise\u001b[0m \u001b[0mValueError\u001b[0m\u001b[1;33m(\u001b[0m\u001b[1;34m\"DataFrame constructor not properly called!\"\u001b[0m\u001b[1;33m)\u001b[0m\u001b[1;33m\u001b[0m\u001b[1;33m\u001b[0m\u001b[0m\n\u001b[0m\u001b[0;32m    591\u001b[0m \u001b[1;33m\u001b[0m\u001b[0m\n\u001b[0;32m    592\u001b[0m             \u001b[1;32mif\u001b[0m \u001b[1;32mnot\u001b[0m \u001b[0mdtype\u001b[0m\u001b[1;33m:\u001b[0m\u001b[1;33m\u001b[0m\u001b[1;33m\u001b[0m\u001b[0m\n",
      "\u001b[1;31mValueError\u001b[0m: DataFrame constructor not properly called!"
     ]
    }
   ],
   "source": []
  },
  {
   "cell_type": "code",
   "execution_count": null,
   "id": "581b3760",
   "metadata": {},
   "outputs": [],
   "source": []
  }
 ],
 "metadata": {
  "kernelspec": {
   "display_name": "Python 3",
   "language": "python",
   "name": "python3"
  },
  "language_info": {
   "codemirror_mode": {
    "name": "ipython",
    "version": 3
   },
   "file_extension": ".py",
   "mimetype": "text/x-python",
   "name": "python",
   "nbconvert_exporter": "python",
   "pygments_lexer": "ipython3",
   "version": "3.7.10"
  }
 },
 "nbformat": 4,
 "nbformat_minor": 5
}
