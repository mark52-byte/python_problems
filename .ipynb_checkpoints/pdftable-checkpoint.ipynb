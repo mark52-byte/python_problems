{
 "cells": [
  {
   "cell_type": "markdown",
   "id": "b4498b20",
   "metadata": {},
   "source": [
    "# install camelot using conda \n"
   ]
  },
  {
   "cell_type": "code",
   "execution_count": 13,
   "id": "bafe6016",
   "metadata": {},
   "outputs": [],
   "source": [
    "import camelot"
   ]
  },
  {
   "cell_type": "markdown",
   "id": "f5f4ceaf",
   "metadata": {},
   "source": [
    "# read csv file using camelot.read`"
   ]
  },
  {
   "cell_type": "code",
   "execution_count": 17,
   "id": "c2a8108a",
   "metadata": {},
   "outputs": [],
   "source": [
    "tables = camelot.read_pdf('StarHealth1.pdf')\n"
   ]
  },
  {
   "cell_type": "code",
   "execution_count": null,
   "id": "bbb6ce7d",
   "metadata": {},
   "outputs": [],
   "source": []
  },
  {
   "cell_type": "markdown",
   "id": "c7c481ea",
   "metadata": {},
   "source": [
    "# now save it in csv form"
   ]
  },
  {
   "cell_type": "code",
   "execution_count": 16,
   "id": "ab0118c8",
   "metadata": {},
   "outputs": [],
   "source": [
    "# tables.export('new_table21.csv', f='csv', compress=False)\n",
    "tables[0].to_csv('new_table21.csv')"
   ]
  },
  {
   "cell_type": "code",
   "execution_count": 7,
   "id": "3009294b",
   "metadata": {},
   "outputs": [],
   "source": [
    "import pandas as pd\n"
   ]
  },
  {
   "cell_type": "code",
   "execution_count": 10,
   "id": "84477ec6",
   "metadata": {},
   "outputs": [],
   "source": [
    "df = pd.read_csv (r'C:\\Users\\mark52\\Desktop\\pdtocsv\\new_table\\new_table-page-1-table-1.csv')\n",
    "df.to_json (r'new.json')"
   ]
  },
  {
   "cell_type": "markdown",
   "id": "b0f93e31",
   "metadata": {},
   "source": [
    "# specify page number"
   ]
  },
  {
   "cell_type": "code",
   "execution_count": 18,
   "id": "1f65e263",
   "metadata": {},
   "outputs": [],
   "source": [
    " tables = camelot.read_pdf('StarHealth1.pdf', pages='2')"
   ]
  },
  {
   "cell_type": "code",
   "execution_count": null,
   "id": "8c93b4b4",
   "metadata": {},
   "outputs": [],
   "source": [
    "tables[0].to_csv('new_table21.csv')"
   ]
  }
 ],
 "metadata": {
  "kernelspec": {
   "display_name": "Python 3",
   "language": "python",
   "name": "python3"
  },
  "language_info": {
   "codemirror_mode": {
    "name": "ipython",
    "version": 3
   },
   "file_extension": ".py",
   "mimetype": "text/x-python",
   "name": "python",
   "nbconvert_exporter": "python",
   "pygments_lexer": "ipython3",
   "version": "3.7.10"
  }
 },
 "nbformat": 4,
 "nbformat_minor": 5
}
