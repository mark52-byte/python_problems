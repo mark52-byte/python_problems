{
 "cells": [
  {
   "cell_type": "code",
   "execution_count": 1,
   "metadata": {},
   "outputs": [],
   "source": [
    "\n",
    "# import pandas library\n",
    "import pandas as pd\n",
    "from datetime import datetime"
   ]
  },
  {
   "cell_type": "code",
   "execution_count": 2,
   "metadata": {},
   "outputs": [
    {
     "ename": "SyntaxError",
     "evalue": "invalid character in identifier (<ipython-input-2-6a677ca0961f>, line 2)",
     "output_type": "error",
     "traceback": [
      "\u001b[1;36m  File \u001b[1;32m\"<ipython-input-2-6a677ca0961f>\"\u001b[1;36m, line \u001b[1;32m2\u001b[0m\n\u001b[1;33m    dt_series = pd.Series([“01/01/2021”, “02/Feb/21”, “12-Mar-2021”, “15 June, 2021”])\u001b[0m\n\u001b[1;37m                             ^\u001b[0m\n\u001b[1;31mSyntaxError\u001b[0m\u001b[1;31m:\u001b[0m invalid character in identifier\n"
     ]
    }
   ],
   "source": [
    "\n",
    "  \n",
    "# create a series of date strings\n",
    "dt_series = pd.Series([“01/01/2021”, “02/Feb/21”, “12-Mar-2021”, “15 June, 2021”])\n",
    "  \n",
    "# display the series initially\n",
    "print(\"Series of date strings:\")\n",
    "print(dt_series)\n",
    "  \n",
    "# display the series after being \n",
    "# converted to a time series\n",
    "print(\"\\nSeries of date strings after\" + \n",
    "       \" being converted to a timeseries:\")\n",
    "  \n",
    "print(pd.to_datetime(dt_series))\n",
    "    \n",
    "    "
   ]
  },
  {
   "cell_type": "code",
   "execution_count": null,
   "metadata": {},
   "outputs": [],
   "source": [
    "\n",
    "\n",
    "ate_string = '12-25-2018'\n",
    "\n",
    "format = \"%Y-%m-%d\"\n",
    "\n",
    "\n",
    "try:\n",
    "\n",
    "  datetime.datetime.strptime(date_string, format)\n",
    "\n",
    "  print(\"This is the correct date string format.\")\n",
    "\n",
    "except ValueError:\n",
    "\n",
    "  print(\"This is the incorrect date string format. It should be "
   ]
  },
  {
   "cell_type": "code",
   "execution_count": null,
   "metadata": {},
   "outputs": [],
   "source": [
    "month_name = \"feb\"\n",
    "\n",
    "\n",
    "datetime_object = datetime.strptime(month_name, \"%b\")\n",
    "\n",
    "\n",
    "month_number = datetime_object.month\n",
    "\n",
    "\n",
    "print(month_number)\n",
    "\n"
   ]
  },
  {
   "cell_type": "markdown",
   "metadata": {},
   "source": [
    "# changes slashes to hiphen\n"
   ]
  },
  {
   "cell_type": "code",
   "execution_count": null,
   "metadata": {},
   "outputs": [],
   "source": [
    "from datetime import datetime\n",
    "def normalizeDate(date):\n",
    "    newDate = '/'.join(str.zfill(elem,2) for elem in date.split('-'))\n",
    "    date_obj = datetime.strptime(newDate, '%d/%m/%Y').date()\n",
    "    return date_obj"
   ]
  },
  {
   "cell_type": "code",
   "execution_count": null,
   "metadata": {},
   "outputs": [],
   "source": [
    "inDate = '15-12-1975'\n",
    "\n",
    "d = normalizeDate(inDate)\n",
    "print(d)\n",
    "print(d.strftime('%d/%m/%Y'))\n",
    "print(type(d))"
   ]
  },
  {
   "cell_type": "markdown",
   "metadata": {},
   "source": [
    "# Convert String with month name to datetime"
   ]
  },
  {
   "cell_type": "code",
   "execution_count": null,
   "metadata": {},
   "outputs": [],
   "source": [
    "from datetime import datetime\n",
    "try:\n",
    "    \n",
    "    s = \"8 MARCh, 2017\"\n",
    "    d = datetime.strptime(s, '%d %B, %Y')\n",
    "\n",
    "\n",
    "    print(d.strftime('%d/%m/%y'))\n",
    "except:\n",
    "    print(\"month should not be in number\")"
   ]
  },
  {
   "cell_type": "code",
   "execution_count": null,
   "metadata": {},
   "outputs": [],
   "source": [
    "date_list = [\"01/01/2021\", \"02/feb/21\", \"12-Mar-2021\", \"15 jun, 2021\"]\n",
    "for date in date_list:\n",
    " \n",
    "    date = '/'.join(str.zfill(elem,2) for elem in date.split('-')) \n",
    "    print(date)\n",
    "    \n",
    "    \n",
    "    \n",
    "    try:\n",
    "        s = date\n",
    "        print(s)\n",
    "    \n",
    "        \n",
    "        d = datetime.strptime(s, '%d/%b/%Y') \n",
    "        \n",
    "        j = datetime.strptime(s, '%d %b, %Y')\n",
    "\n",
    "\n",
    "        print(d.strftime('%d/%m/%y'))\n",
    "        print(j.strftime('%d/%m/%y'))\n",
    "        \n",
    "    except:\n",
    "       pass\n",
    "    \n",
    "      \n",
    "        "
   ]
  },
  {
   "cell_type": "code",
   "execution_count": null,
   "metadata": {},
   "outputs": [],
   "source": [
    "try:\n",
    "    \n",
    "    s = \"8 MARCh, 2017\"\n",
    "    \n",
    "    d = datetime.strptime(s, '%d %B, %Y')\n",
    "\n",
    "\n",
    "    print(d.strftime('%d/%m/%y'))\n",
    "    \n",
    "except:\n",
    "    print(\"month should not be in number\")"
   ]
  },
  {
   "cell_type": "code",
   "execution_count": null,
   "metadata": {},
   "outputs": [],
   "source": [
    "date = \"12-mar-2021\"\n",
    "(date.split('/')[0])"
   ]
  },
  {
   "cell_type": "markdown",
   "metadata": {},
   "source": [
    "# capitilize first letter"
   ]
  },
  {
   "cell_type": "code",
   "execution_count": null,
   "metadata": {},
   "outputs": [],
   "source": [
    "def capitalize_first_last_letters(str1):\n",
    "     str1 = result = str1.title()\n",
    "     result =  \"\"\n",
    "     for word in str1.split():\n",
    "        result += word[:-1] + word[-1].upper() + \" \"\n",
    "     return result[:-1]  \n",
    "capitalize_first_last_letters(\"MR. JAI.RAM/JEE\")"
   ]
  },
  {
   "cell_type": "code",
   "execution_count": null,
   "metadata": {},
   "outputs": [],
   "source": [
    "lst=[]\n",
    "import re\n",
    "date_list = [\"01/01/2021\", \"02/feb/21\", \"12-mar-2021\", \"15 jun, 2021\"]\n",
    "dat1 = [ ]\n",
    "s = (\"/\")\n",
    "for date in date_list:\n",
    "    dat1=s.join(date.split(' ' and \"-\" or \",\" \" \"))\n",
    "    print(dat1)\n",
    "    \n",
    "    \n",
    "   "
   ]
  },
  {
   "cell_type": "code",
   "execution_count": null,
   "metadata": {},
   "outputs": [],
   "source": [
    "print(lst)"
   ]
  },
  {
   "cell_type": "code",
   "execution_count": null,
   "metadata": {},
   "outputs": [],
   "source": [
    "date_list = [\"02/feb/21\", \"12-Mar-2021\", \"15 jun, 2021\"]\n",
    "for date in date_list:\n",
    " \n",
    "    date = '/'.join(str.zfill(elem,2) for elem in date.split('-')) \n",
    "    \n",
    "    \n",
    "    \n",
    "\n",
    "    s = date\n",
    "    print(s)\n",
    "\n",
    "\n",
    "    d = datetime.strptime(s, '%d/%b/%Y')  \n",
    "\n",
    "\n",
    "    print(d.strftime('%d/%m/%y'))\n",
    "\n",
    "    \n",
    "       \n",
    "      \n",
    "        "
   ]
  },
  {
   "cell_type": "code",
   "execution_count": null,
   "metadata": {},
   "outputs": [],
   "source": [
    "import re\n",
    "date_list = [\"02/feb/21\", \"12-Mar-2021\", \"15 jun, 2021\"]\n",
    "for date in date_list:\n",
    "    if bool(re.search(r\"\\s\", date)):\n",
    "        print(date.split(\" \"))\n",
    "        \n",
    "    else:\n",
    "        print(date.split(\"-\"))\n",
    "    "
   ]
  },
  {
   "cell_type": "code",
   "execution_count": null,
   "metadata": {},
   "outputs": [],
   "source": [
    "date_list = [\"01/01/2021\", \"02-feb-21\", \"12-mar-2021\", \"15 jun, 2021\"]\n",
    "for date in date_list:\n",
    "\n",
    "    \n",
    "\n",
    "\n",
    "\n",
    "    date = '/'.join(str.zfill(elem,2) for elem in date.split(' ') or date.split('-'))\n",
    "    print(date, \"this is date\")\n",
    "\n",
    "\n",
    "\n",
    "    try:\n",
    "\n",
    "        s = date\n",
    "\n",
    "        print(s)\n",
    "\n",
    "\n",
    "        d = datetime.strptime(s, '%d/%b/%Y')  \n",
    "\n",
    "\n",
    "        print(d.strftime('%d/%m/%y'))\n",
    "\n",
    "    except:\n",
    "\n",
    "        pass\n",
    "\n",
    " \n",
    "   \n",
    "    \n",
    "    \n",
    "    \n",
    "#     try:\n",
    "#         s = date\n",
    "#         print(s)\n",
    "    \n",
    "        3\n",
    "#         d = datetime.strptime(s, '%d/%b/%Y')  \n",
    "\n",
    "\n",
    "#         print(d.strftime('%d/%m/%y'))\n",
    "        \n",
    "#     except:"
   ]
  },
  {
   "cell_type": "code",
   "execution_count": null,
   "metadata": {},
   "outputs": [],
   "source": [
    "import re\n",
    "\n",
    "import dateparser\n",
    "from datetime import datetime\n",
    "\n",
    "date_list = [\"01/01/2021\", \"02/feb/21\", \"12-mar-2021\", \"15 jun, 2021\"]\n",
    "for date in date_list:\n",
    "    date = dateparser.parse(date)\n",
    "    date = date.strftime('%d/%m/%y')\n",
    "    print(date)\n",
    "\n",
    "    \n",
    "    \n",
    " \n",
    "#     date = '/'.join(str.zfill(elem,2) for elem in date.split('-')) \n",
    "    \n",
    "    \n",
    "    \n",
    "#     try:\n",
    "        \n",
    "#         s = date\n",
    "#         print(s)\n",
    "\n",
    "\n",
    "#         d = datetime.strptime(s, '%d/%b/%Y')  \n",
    "\n",
    "\n",
    "#         print(d.strftime('%d/%m/%y'))\n",
    "#     except:\n",
    "#         pass\n"
   ]
  },
  {
   "cell_type": "code",
   "execution_count": null,
   "metadata": {},
   "outputs": [],
   "source": [
    "string = \"15 jun, 2021\"\n",
    "string = string.split(\" \")\n",
    "string"
   ]
  },
  {
   "cell_type": "code",
   "execution_count": null,
   "metadata": {},
   "outputs": [],
   "source": [
    "date_list = [\"01/01/2021\", \"02/feb/21\", \"12-mar-2021\", \"15 jun, 2021\"]\n",
    "# string = \" nhjdbhjsb, 15 jun, 2021\"\n",
    "pattern = re.compile('\\dd\\s\\w,\\s\\d\\d\\d\\d')\n",
    "\n",
    "for string in date_list:\n",
    "    matches = pattern.finditer(string)\n",
    "    \n",
    "\n",
    "\n",
    "    for match in matches:\n",
    "        print(match)"
   ]
  },
  {
   "cell_type": "markdown",
   "metadata": {},
   "source": [
    "# date time extraction"
   ]
  },
  {
   "cell_type": "code",
   "execution_count": 1,
   "metadata": {},
   "outputs": [
    {
     "name": "stdout",
     "output_type": "stream",
     "text": [
      "01/01/21\n",
      "02/02/21\n",
      "12/03/21\n",
      "15/06/21\n"
     ]
    }
   ],
   "source": [
    "import dateparser\n",
    "from datetime import datetime\n",
    "\n",
    "date_list = [\"01/01/2021\", \"02/feb/21\", \"12-Mar-2021\", \"15 jun, 2021\"]\n",
    "for date in date_list:\n",
    "    date = dateparser.parse(date)\n",
    "    date = date.strftime('%d/%m/%y')\n",
    "    print(str(date))\n",
    "    name = str(date)\n",
    "    \n"
   ]
  },
  {
   "cell_type": "code",
   "execution_count": 24,
   "metadata": {},
   "outputs": [
    {
     "name": "stdout",
     "output_type": "stream",
     "text": [
      "01/01/21\n",
      "02/02/21\n",
      "12/03/21\n",
      "15/06/21\n"
     ]
    }
   ],
   "source": [
    "import datetime\n",
    "import calendar\n",
    "{\"Monthly\": 1, \"Annually\":12,\"Quarterly\":4}\n",
    "def add_months(sourcedate, months):\n",
    "    month = sourcedate.month - 1 + months\n",
    "    year = sourcedate.year + month // 12\n",
    "    month = month % 12 + 1\n",
    "    day = min(sourcedate.day, calendar.monthrange(year,month)[1])\n",
    "    return datetime.date(year, month, day)\n",
    "\n",
    "date_list = [\"01/01/2021\", \"02/feb/21\", \"12-Mar-2021\", \"15 jun, 2021\"]\n",
    "for date in date_list:\n",
    "    date = dateparser.parse(date)\n",
    "    date = date.strftime('%d/%m/%y')\n",
    "    print(str(date))\n",
    "    name = str(date)\n"
   ]
  },
  {
   "cell_type": "code",
   "execution_count": 6,
   "metadata": {},
   "outputs": [],
   "source": [
    "lst = [\"03/00/3184/02\", \"19 Jun, 2009\", \"15-Nov-21\", \"45-23-2001\", \"23/01/1998\",\n",
    "\"Mumbai/Pune/Nagpur\", [\"Quarterly\", \"30-12-2021\"], \"28/Mar/2021\", \"01/Jun/21\", [\"Monthly\",\n",
    "\"08/Jun/09\"], \"Pratap Bajaj\", [\"Annually\", \"01/06/2016\"], \" \"]"
   ]
  },
  {
   "cell_type": "code",
   "execution_count": 34,
   "metadata": {},
   "outputs": [
    {
     "name": "stdout",
     "output_type": "stream",
     "text": [
      "02/03/84\n",
      "19/06/09\n",
      "15/11/21\n",
      "23/01/98\n"
     ]
    },
    {
     "ename": "TypeError",
     "evalue": "Input type must be str",
     "output_type": "error",
     "traceback": [
      "\u001b[1;31m---------------------------------------------------------------------------\u001b[0m",
      "\u001b[1;31mTypeError\u001b[0m                                 Traceback (most recent call last)",
      "\u001b[1;32m<ipython-input-34-8fc1a2f1d3a0>\u001b[0m in \u001b[0;36m<module>\u001b[1;34m\u001b[0m\n\u001b[0;32m      8\u001b[0m \u001b[1;32mfor\u001b[0m \u001b[0mls\u001b[0m \u001b[1;32min\u001b[0m \u001b[0mlst\u001b[0m\u001b[1;33m:\u001b[0m\u001b[1;33m\u001b[0m\u001b[1;33m\u001b[0m\u001b[0m\n\u001b[0;32m      9\u001b[0m \u001b[1;33m\u001b[0m\u001b[0m\n\u001b[1;32m---> 10\u001b[1;33m     \u001b[0mdate\u001b[0m \u001b[1;33m=\u001b[0m \u001b[0mdateparser\u001b[0m\u001b[1;33m.\u001b[0m\u001b[0mparse\u001b[0m\u001b[1;33m(\u001b[0m\u001b[0mls\u001b[0m\u001b[1;33m)\u001b[0m\u001b[1;33m\u001b[0m\u001b[1;33m\u001b[0m\u001b[0m\n\u001b[0m\u001b[0;32m     11\u001b[0m     \u001b[1;32mtry\u001b[0m\u001b[1;33m:\u001b[0m\u001b[1;33m\u001b[0m\u001b[1;33m\u001b[0m\u001b[0m\n\u001b[0;32m     12\u001b[0m \u001b[1;33m\u001b[0m\u001b[0m\n",
      "\u001b[1;32m~\\anaconda3\\envs\\myenv\\lib\\site-packages\\dateparser\\conf.py\u001b[0m in \u001b[0;36mwrapper\u001b[1;34m(*args, **kwargs)\u001b[0m\n\u001b[0;32m     87\u001b[0m             \u001b[1;32mraise\u001b[0m \u001b[0mTypeError\u001b[0m\u001b[1;33m(\u001b[0m\u001b[1;34m\"settings can only be either dict or instance of Settings class\"\u001b[0m\u001b[1;33m)\u001b[0m\u001b[1;33m\u001b[0m\u001b[1;33m\u001b[0m\u001b[0m\n\u001b[0;32m     88\u001b[0m \u001b[1;33m\u001b[0m\u001b[0m\n\u001b[1;32m---> 89\u001b[1;33m         \u001b[1;32mreturn\u001b[0m \u001b[0mf\u001b[0m\u001b[1;33m(\u001b[0m\u001b[1;33m*\u001b[0m\u001b[0margs\u001b[0m\u001b[1;33m,\u001b[0m \u001b[1;33m**\u001b[0m\u001b[0mkwargs\u001b[0m\u001b[1;33m)\u001b[0m\u001b[1;33m\u001b[0m\u001b[1;33m\u001b[0m\u001b[0m\n\u001b[0m\u001b[0;32m     90\u001b[0m     \u001b[1;32mreturn\u001b[0m \u001b[0mwrapper\u001b[0m\u001b[1;33m\u001b[0m\u001b[1;33m\u001b[0m\u001b[0m\n\u001b[0;32m     91\u001b[0m \u001b[1;33m\u001b[0m\u001b[0m\n",
      "\u001b[1;32m~\\anaconda3\\envs\\myenv\\lib\\site-packages\\dateparser\\__init__.py\u001b[0m in \u001b[0;36mparse\u001b[1;34m(date_string, date_formats, languages, locales, region, settings)\u001b[0m\n\u001b[0;32m     52\u001b[0m                                 region=region, settings=settings)\n\u001b[0;32m     53\u001b[0m \u001b[1;33m\u001b[0m\u001b[0m\n\u001b[1;32m---> 54\u001b[1;33m     \u001b[0mdata\u001b[0m \u001b[1;33m=\u001b[0m \u001b[0mparser\u001b[0m\u001b[1;33m.\u001b[0m\u001b[0mget_date_data\u001b[0m\u001b[1;33m(\u001b[0m\u001b[0mdate_string\u001b[0m\u001b[1;33m,\u001b[0m \u001b[0mdate_formats\u001b[0m\u001b[1;33m)\u001b[0m\u001b[1;33m\u001b[0m\u001b[1;33m\u001b[0m\u001b[0m\n\u001b[0m\u001b[0;32m     55\u001b[0m \u001b[1;33m\u001b[0m\u001b[0m\n\u001b[0;32m     56\u001b[0m     \u001b[1;32mif\u001b[0m \u001b[0mdata\u001b[0m\u001b[1;33m:\u001b[0m\u001b[1;33m\u001b[0m\u001b[1;33m\u001b[0m\u001b[0m\n",
      "\u001b[1;32m~\\anaconda3\\envs\\myenv\\lib\\site-packages\\dateparser\\date.py\u001b[0m in \u001b[0;36mget_date_data\u001b[1;34m(self, date_string, date_formats)\u001b[0m\n\u001b[0;32m    410\u001b[0m         \"\"\"\n\u001b[0;32m    411\u001b[0m         \u001b[1;32mif\u001b[0m \u001b[1;32mnot\u001b[0m \u001b[0misinstance\u001b[0m\u001b[1;33m(\u001b[0m\u001b[0mdate_string\u001b[0m\u001b[1;33m,\u001b[0m \u001b[0mstr\u001b[0m\u001b[1;33m)\u001b[0m\u001b[1;33m:\u001b[0m\u001b[1;33m\u001b[0m\u001b[1;33m\u001b[0m\u001b[0m\n\u001b[1;32m--> 412\u001b[1;33m             \u001b[1;32mraise\u001b[0m \u001b[0mTypeError\u001b[0m\u001b[1;33m(\u001b[0m\u001b[1;34m'Input type must be str'\u001b[0m\u001b[1;33m)\u001b[0m\u001b[1;33m\u001b[0m\u001b[1;33m\u001b[0m\u001b[0m\n\u001b[0m\u001b[0;32m    413\u001b[0m \u001b[1;33m\u001b[0m\u001b[0m\n\u001b[0;32m    414\u001b[0m         \u001b[0mres\u001b[0m \u001b[1;33m=\u001b[0m \u001b[0mparse_with_formats\u001b[0m\u001b[1;33m(\u001b[0m\u001b[0mdate_string\u001b[0m\u001b[1;33m,\u001b[0m \u001b[0mdate_formats\u001b[0m \u001b[1;32mor\u001b[0m \u001b[1;33m[\u001b[0m\u001b[1;33m]\u001b[0m\u001b[1;33m,\u001b[0m \u001b[0mself\u001b[0m\u001b[1;33m.\u001b[0m\u001b[0m_settings\u001b[0m\u001b[1;33m)\u001b[0m\u001b[1;33m\u001b[0m\u001b[1;33m\u001b[0m\u001b[0m\n",
      "\u001b[1;31mTypeError\u001b[0m: Input type must be str"
     ]
    }
   ],
   "source": [
    "import itertools\n",
    "lst = lst = [\"03/00/3184/02\", \"19 Jun, 2009\", \"15-Nov-21\", \"45-23-2001\", \"23/01/1998\",\n",
    "\"Mumbai/Pune/Nagpur\", [\"Quarterly\", \"30-12-2021\"], \"28/Mar/2021\", \"01/Jun/21\", [\"Monthly\",\n",
    "\"08/Jun/09\"], \"Pratap Bajaj\", [\"Annually\", \"01/06/2016\"], \" \"]\n",
    "mon = {\"Monthly\": 1, \"Annually\":12,\"Quarterly\":4}\n",
    "\n",
    "\n",
    "for ls in lst:\n",
    "\n",
    "    date = dateparser.parse(ls)\n",
    "    try:\n",
    "        \n",
    "        if date == None:\n",
    "            pass\n",
    "        date = date.strftime('%d/%m/%y')\n",
    "        print(str(date))\n",
    "        if isinstance(ls, list) == True:\n",
    "            print(ls[0], \"this is nested\")\n",
    "\n",
    "            if len(ls) == 2:\n",
    "                if ls[0]  in mon.keys():\n",
    "                    \n",
    "                    print(ls[0], \"this is the keys\")\n",
    "                    add_months(dateparser.parse(ls[1], mon[ls[0]]))\n",
    "    except:\n",
    "        pass\n",
    "\n",
    "            \n",
    "  \n",
    "    \n",
    "   "
   ]
  },
  {
   "cell_type": "code",
   "execution_count": 26,
   "metadata": {},
   "outputs": [],
   "source": [
    "somedate = datetime.date.today()"
   ]
  },
  {
   "cell_type": "code",
   "execution_count": 27,
   "metadata": {},
   "outputs": [
    {
     "data": {
      "text/plain": [
       "datetime.date(2021, 4, 8)"
      ]
     },
     "execution_count": 27,
     "metadata": {},
     "output_type": "execute_result"
    }
   ],
   "source": [
    "somedate"
   ]
  },
  {
   "cell_type": "code",
   "execution_count": 73,
   "metadata": {},
   "outputs": [
    {
     "name": "stdout",
     "output_type": "stream",
     "text": [
      "02/03/84\n",
      "19/06/09\n",
      "15/11/21\n",
      "23/01/98\n",
      "Quarterly this is the keys\n",
      "<class 'str'>\n",
      "28/03/21\n",
      "01/06/21\n",
      "Monthly this is the keys\n",
      "<class 'str'>\n",
      "Annually this is the keys\n",
      "<class 'str'>\n"
     ]
    }
   ],
   "source": [
    "import itertools\n",
    "lst = [\"03/00/3184/02\", \"19 Jun, 2009\", \"15-Nov-21\", \"45-23-2001\", \"23/01/1998\",\n",
    "\"Mumbai/Pune/Nagpur\", [\"Quarterly\", \"30-12-2021\"], \"28/Mar/2021\", \"01/Jun/21\", [\"Monthly\",\n",
    "\"08/Jun/09\"], \"Pratap Bajaj\", [\"Annually\", \"01/06/2016\"], \" \"]\n",
    "\n",
    "\n",
    "\n",
    "\n",
    "mon = {\"Monthly\": 1, \"Annually\":12,\"Quarterly\":4}\n",
    "\n",
    "\n",
    "import calendar\n",
    "from datetime import datetime\n",
    "\n",
    "\n",
    "\n",
    "\n",
    "def add_months(sourcedate, months):\n",
    "    month = sourcedate.month - 1 + months\n",
    "    year = sourcedate.year + month // 12\n",
    "    month = month % 12 + 1\n",
    "    day = min(sourcedate.day, calendar.monthrange(year,month)[1])\n",
    "    return datetime.date(year, month, day)\n",
    "\n",
    "\n",
    "\n",
    "\n",
    "\n",
    "\n",
    "for ls in lst:\n",
    "    \n",
    "    try:\n",
    "        \n",
    "        if isinstance(ls, list) == True:\n",
    "#                 print(ls[0], \"this is nested\")\n",
    "\n",
    "                if len(ls) == 2:\n",
    "        \n",
    "                    if ls[0]  in mon.keys():\n",
    "                \n",
    "                        print(ls[0], \"this is the keys\")\n",
    "                        date = dateparser.parse(ls[1])\n",
    "                        date = date.strftime('%d/%m/%y')\n",
    "                        print(type(date))\n",
    "                        NextDay_Date = date + datetime.timedelta(days=1)\n",
    "                        print(NextDay_Date,\"this is next_day\")\n",
    "                        date = datetime.strptime('%d/%m/%y')\n",
    "                        print(date, \"this is date\")\n",
    "#                         print(date.split(\",\"))\n",
    "                        print(mon[ls[0]])\n",
    "                        print(add_months(date, mon[ls[0]]))\n",
    "        else:\n",
    "            \n",
    "\n",
    "            date = dateparser.parse(ls)\n",
    "\n",
    "\n",
    "            if date == None:\n",
    "                pass\n",
    "            date = date.strftime('%d/%m/%y')\n",
    "            print(str(date))\n",
    "        \n",
    "    except:\n",
    "        pass\n",
    "\n",
    "            \n",
    "  \n",
    "    "
   ]
  },
  {
   "cell_type": "code",
   "execution_count": 105,
   "metadata": {},
   "outputs": [
    {
     "name": "stdout",
     "output_type": "stream",
     "text": [
      "3184-03-02 00:00:00\n",
      "03/03/84 this is next_day\n",
      "2009-06-19 00:00:00\n",
      "20/06/09 this is next_day\n",
      "2021-11-15 00:00:00\n",
      "16/11/21 this is next_day\n",
      "None\n",
      "1998-01-23 00:00:00\n",
      "24/01/98 this is next_day\n",
      "None\n",
      "Quarterly this is the keys\n"
     ]
    },
    {
     "ename": "ValueError",
     "evalue": "time data '2021-12-30 00:00:00' does not match format '%d/%m/%y'",
     "output_type": "error",
     "traceback": [
      "\u001b[1;31m---------------------------------------------------------------------------\u001b[0m",
      "\u001b[1;31mValueError\u001b[0m                                Traceback (most recent call last)",
      "\u001b[1;32m<ipython-input-105-7b94dcf33ff4>\u001b[0m in \u001b[0;36m<module>\u001b[1;34m\u001b[0m\n\u001b[0;32m     39\u001b[0m \u001b[1;33m\u001b[0m\u001b[0m\n\u001b[0;32m     40\u001b[0m                     \u001b[1;32mfor\u001b[0m \u001b[0mi\u001b[0m \u001b[1;32min\u001b[0m \u001b[0mrange\u001b[0m\u001b[1;33m(\u001b[0m\u001b[1;36m0\u001b[0m\u001b[1;33m,\u001b[0m\u001b[1;36m3\u001b[0m\u001b[1;33m)\u001b[0m\u001b[1;33m:\u001b[0m\u001b[1;33m\u001b[0m\u001b[1;33m\u001b[0m\u001b[0m\n\u001b[1;32m---> 41\u001b[1;33m                         \u001b[0mdate1\u001b[0m \u001b[1;33m=\u001b[0m \u001b[0mdatetime\u001b[0m\u001b[1;33m.\u001b[0m\u001b[0mstrptime\u001b[0m\u001b[1;33m(\u001b[0m\u001b[0mdate\u001b[0m\u001b[1;33m,\u001b[0m \u001b[1;34m\"%d/%m/%y\"\u001b[0m\u001b[1;33m)\u001b[0m\u001b[1;33m\u001b[0m\u001b[1;33m\u001b[0m\u001b[0m\n\u001b[0m\u001b[0;32m     42\u001b[0m \u001b[1;33m\u001b[0m\u001b[0m\n\u001b[0;32m     43\u001b[0m                         \u001b[0mNextDay_Date\u001b[0m \u001b[1;33m=\u001b[0m \u001b[1;33m(\u001b[0m\u001b[0mdate1\u001b[0m \u001b[1;33m+\u001b[0m \u001b[0mdt\u001b[0m\u001b[1;33m.\u001b[0m\u001b[0mtimedelta\u001b[0m\u001b[1;33m(\u001b[0m\u001b[0mdays\u001b[0m\u001b[1;33m=\u001b[0m\u001b[0mmon\u001b[0m\u001b[1;33m[\u001b[0m\u001b[0mls\u001b[0m\u001b[1;33m[\u001b[0m\u001b[1;36m0\u001b[0m\u001b[1;33m]\u001b[0m\u001b[1;33m]\u001b[0m\u001b[1;33m)\u001b[0m\u001b[1;33m)\u001b[0m\u001b[1;33m\u001b[0m\u001b[1;33m\u001b[0m\u001b[0m\n",
      "\u001b[1;32m~\\anaconda3\\envs\\myenv\\lib\\_strptime.py\u001b[0m in \u001b[0;36m_strptime_datetime\u001b[1;34m(cls, data_string, format)\u001b[0m\n\u001b[0;32m    575\u001b[0m     \"\"\"Return a class cls instance based on the input string and the\n\u001b[0;32m    576\u001b[0m     format string.\"\"\"\n\u001b[1;32m--> 577\u001b[1;33m     \u001b[0mtt\u001b[0m\u001b[1;33m,\u001b[0m \u001b[0mfraction\u001b[0m\u001b[1;33m,\u001b[0m \u001b[0mgmtoff_fraction\u001b[0m \u001b[1;33m=\u001b[0m \u001b[0m_strptime\u001b[0m\u001b[1;33m(\u001b[0m\u001b[0mdata_string\u001b[0m\u001b[1;33m,\u001b[0m \u001b[0mformat\u001b[0m\u001b[1;33m)\u001b[0m\u001b[1;33m\u001b[0m\u001b[1;33m\u001b[0m\u001b[0m\n\u001b[0m\u001b[0;32m    578\u001b[0m     \u001b[0mtzname\u001b[0m\u001b[1;33m,\u001b[0m \u001b[0mgmtoff\u001b[0m \u001b[1;33m=\u001b[0m \u001b[0mtt\u001b[0m\u001b[1;33m[\u001b[0m\u001b[1;33m-\u001b[0m\u001b[1;36m2\u001b[0m\u001b[1;33m:\u001b[0m\u001b[1;33m]\u001b[0m\u001b[1;33m\u001b[0m\u001b[1;33m\u001b[0m\u001b[0m\n\u001b[0;32m    579\u001b[0m     \u001b[0margs\u001b[0m \u001b[1;33m=\u001b[0m \u001b[0mtt\u001b[0m\u001b[1;33m[\u001b[0m\u001b[1;33m:\u001b[0m\u001b[1;36m6\u001b[0m\u001b[1;33m]\u001b[0m \u001b[1;33m+\u001b[0m \u001b[1;33m(\u001b[0m\u001b[0mfraction\u001b[0m\u001b[1;33m,\u001b[0m\u001b[1;33m)\u001b[0m\u001b[1;33m\u001b[0m\u001b[1;33m\u001b[0m\u001b[0m\n",
      "\u001b[1;32m~\\anaconda3\\envs\\myenv\\lib\\_strptime.py\u001b[0m in \u001b[0;36m_strptime\u001b[1;34m(data_string, format)\u001b[0m\n\u001b[0;32m    357\u001b[0m     \u001b[1;32mif\u001b[0m \u001b[1;32mnot\u001b[0m \u001b[0mfound\u001b[0m\u001b[1;33m:\u001b[0m\u001b[1;33m\u001b[0m\u001b[1;33m\u001b[0m\u001b[0m\n\u001b[0;32m    358\u001b[0m         raise ValueError(\"time data %r does not match format %r\" %\n\u001b[1;32m--> 359\u001b[1;33m                          (data_string, format))\n\u001b[0m\u001b[0;32m    360\u001b[0m     \u001b[1;32mif\u001b[0m \u001b[0mlen\u001b[0m\u001b[1;33m(\u001b[0m\u001b[0mdata_string\u001b[0m\u001b[1;33m)\u001b[0m \u001b[1;33m!=\u001b[0m \u001b[0mfound\u001b[0m\u001b[1;33m.\u001b[0m\u001b[0mend\u001b[0m\u001b[1;33m(\u001b[0m\u001b[1;33m)\u001b[0m\u001b[1;33m:\u001b[0m\u001b[1;33m\u001b[0m\u001b[1;33m\u001b[0m\u001b[0m\n\u001b[0;32m    361\u001b[0m         raise ValueError(\"unconverted data remains: %s\" %\n",
      "\u001b[1;31mValueError\u001b[0m: time data '2021-12-30 00:00:00' does not match format '%d/%m/%y'"
     ]
    }
   ],
   "source": [
    "import itertools\n",
    "lst = [\"03/00/3184/02\", \"19 Jun, 2009\", \"15-Nov-21\", \"45-23-2001\", \"23/01/1998\",\n",
    "\"Mumbai/Pune/Nagpur\", [\"Quarterly\", \"30-12-2021\"], \"28/Mar/2021\", \"01/Jun/21\", [\"Monthly\",\n",
    "\"08/Jun/09\"], \"Pratap Bajaj\", [\"Annually\", \"01/06/2016\"], \" \"]\n",
    "\n",
    "\n",
    "\n",
    "\n",
    "mon = {\"Monthly\": 30, \"Annually\":365,\"Quarterly\":120}\n",
    "\n",
    "\n",
    "import calendar\n",
    "from datetime import datetime\n",
    "from datetime import timedelta\n",
    "\n",
    "\n",
    "\n",
    "\n",
    "\n",
    "\n",
    "\n",
    "\n",
    "\n",
    "for ls in lst:\n",
    " \n",
    "        \n",
    "    if isinstance(ls, list) == True:\n",
    "#                 print(ls[0], \"this is nested\")\n",
    "\n",
    "            if len(ls) == 2:\n",
    "\n",
    "                if ls[0]  in mon.keys():\n",
    "\n",
    "                    print(ls[0], \"this is the keys\")\n",
    "                    date = dateparser.parse(ls[1])\n",
    "                    date = date.strftime('%d/%m/%y')\n",
    "                \n",
    "\n",
    "                    \n",
    "                    for i in range(0,3):\n",
    "                        date1 = datetime.strptime(date, \"%d/%m/%y\")\n",
    "                        \n",
    "                        NextDay_Date = (date1 + dt.timedelta(days=mon[ls[0]]))\n",
    "                        date = NextDay_Date.strftime('%d/%m/%y')\n",
    "                        print(date)\n",
    "                        date = date\n",
    "\n",
    "#                        \n",
    "                  \n",
    "    else:\n",
    "\n",
    "\n",
    "        date = dateparser.parse(ls)\n",
    "        print(date)\n",
    "\n",
    "\n",
    "        if date != None:\n",
    "            \n",
    "            date2 = date.strftime('%d/%m/%y')\n",
    "            date1 = datetime.strptime(date2, \"%d/%m/%y\")\n",
    "            NextDay_Date = (date1 + dt.timedelta(days=1))\n",
    "            print(NextDay_Date.strftime('%d/%m/%y'),\"this is next_day\")\n",
    "        else:\n",
    "            pass\n",
    "\n",
    "      \n",
    "  \n",
    "            \n",
    "  \n",
    "    "
   ]
  },
  {
   "cell_type": "code",
   "execution_count": null,
   "metadata": {},
   "outputs": [],
   "source": []
  }
 ],
 "metadata": {
  "kernelspec": {
   "display_name": "Python 3",
   "language": "python",
   "name": "python3"
  },
  "language_info": {
   "codemirror_mode": {
    "name": "ipython",
    "version": 3
   },
   "file_extension": ".py",
   "mimetype": "text/x-python",
   "name": "python",
   "nbconvert_exporter": "python",
   "pygments_lexer": "ipython3",
   "version": "3.7.9"
  }
 },
 "nbformat": 4,
 "nbformat_minor": 4
}
